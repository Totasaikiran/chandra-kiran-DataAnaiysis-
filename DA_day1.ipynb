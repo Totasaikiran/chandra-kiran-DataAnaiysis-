{
  "nbformat": 4,
  "nbformat_minor": 0,
  "metadata": {
    "colab": {
      "provenance": []
    },
    "kernelspec": {
      "name": "python3",
      "display_name": "Python 3"
    },
    "language_info": {
      "name": "python"
    }
  },
  "cells": [
    {
      "cell_type": "code",
      "execution_count": null,
      "metadata": {
        "colab": {
          "base_uri": "https://localhost:8080/"
        },
        "id": "jXEBcN5msirY",
        "outputId": "d671b51d-9871-4d17-d137-b74e356b6638"
      },
      "outputs": [
        {
          "output_type": "stream",
          "name": "stdout",
          "text": [
            "i am 5 year old\n"
          ]
        }
      ],
      "source": [
        "\n",
        "#variable and print\n",
        "a=5\n",
        "print(\"i am\",a,\"year old\")"
      ]
    },
    {
      "cell_type": "markdown",
      "source": [
        "operators"
      ],
      "metadata": {
        "id": "iMOMrKXdtbp8"
      }
    },
    {
      "cell_type": "code",
      "source": [
        "#arthmetic\n",
        "a=10\n",
        "b=20\n",
        "print(a+b)"
      ],
      "metadata": {
        "colab": {
          "base_uri": "https://localhost:8080/"
        },
        "id": "ph7rj_PZteex",
        "outputId": "a74e2097-c9bc-4d07-8602-8a1c3c003f18"
      },
      "execution_count": null,
      "outputs": [
        {
          "output_type": "stream",
          "name": "stdout",
          "text": [
            "30\n"
          ]
        }
      ]
    },
    {
      "cell_type": "code",
      "source": [
        "#power\n",
        "a=2\n",
        "b=3\n",
        "print(2**3)"
      ],
      "metadata": {
        "colab": {
          "base_uri": "https://localhost:8080/"
        },
        "id": "0lpZjUfKt7P_",
        "outputId": "3b909ae2-6d26-4ff2-a918-9bd5cecec862"
      },
      "execution_count": null,
      "outputs": [
        {
          "output_type": "stream",
          "name": "stdout",
          "text": [
            "8\n"
          ]
        }
      ]
    },
    {
      "cell_type": "code",
      "source": [
        "#floor division\n",
        "a=5\n",
        "print(a//2)"
      ],
      "metadata": {
        "colab": {
          "base_uri": "https://localhost:8080/"
        },
        "id": "hUyJnXjiul5g",
        "outputId": "29119b86-58fb-4b18-fa0f-bc8f0e230c26"
      },
      "execution_count": null,
      "outputs": [
        {
          "output_type": "stream",
          "name": "stdout",
          "text": [
            "2\n"
          ]
        }
      ]
    },
    {
      "cell_type": "code",
      "source": [
        "#relational\n",
        "a=5\n",
        "b=7\n",
        "print(a<b)\n",
        "print(a>b)\n",
        "print(a<=b)\n",
        "print(a>=b)\n",
        "print(a!=b)"
      ],
      "metadata": {
        "colab": {
          "base_uri": "https://localhost:8080/"
        },
        "id": "Tm7dWCyFu6it",
        "outputId": "fdf46100-9950-4094-ff73-b2f34beb3a2f"
      },
      "execution_count": null,
      "outputs": [
        {
          "output_type": "stream",
          "name": "stdout",
          "text": [
            "True\n",
            "False\n",
            "True\n",
            "False\n",
            "True\n"
          ]
        }
      ]
    },
    {
      "cell_type": "code",
      "source": [
        "#logical\n",
        "a=5\n",
        "b=55\n",
        "print((a>b and a<b))\n",
        "print((a>b or a<b))"
      ],
      "metadata": {
        "colab": {
          "base_uri": "https://localhost:8080/"
        },
        "id": "yH8kKXOyvcPp",
        "outputId": "d09898d2-7206-4d12-d9bf-c8cd76e100b0"
      },
      "execution_count": null,
      "outputs": [
        {
          "output_type": "stream",
          "name": "stdout",
          "text": [
            "False\n",
            "True\n"
          ]
        }
      ]
    },
    {
      "cell_type": "code",
      "source": [
        "#membership\n",
        "a=\"pirate\"\n",
        "print(\"a\"in a)\n",
        "print(\"p\"in a)"
      ],
      "metadata": {
        "colab": {
          "base_uri": "https://localhost:8080/"
        },
        "id": "qzeaZgr5v-Dd",
        "outputId": "e9463fcb-52d5-43cc-8555-5cd88795c095"
      },
      "execution_count": null,
      "outputs": [
        {
          "output_type": "stream",
          "name": "stdout",
          "text": [
            "True\n",
            "True\n"
          ]
        }
      ]
    },
    {
      "cell_type": "code",
      "source": [
        "#coditional\n",
        "#write a program to get a number from user whether it is positive or negative\n",
        "a=int(input(\"enter a\"))\n",
        "if(a>0):\n",
        "  print(a,\"is positive\")\n",
        "else:\n",
        "  print(a,\"is negative\")"
      ],
      "metadata": {
        "colab": {
          "base_uri": "https://localhost:8080/"
        },
        "id": "KlpsS-i4wnmY",
        "outputId": "e510f056-f140-44ef-f928-ebfc6ade878a"
      },
      "execution_count": null,
      "outputs": [
        {
          "output_type": "stream",
          "name": "stdout",
          "text": [
            "enter a4\n",
            "4 is positive\n"
          ]
        }
      ]
    },
    {
      "cell_type": "code",
      "source": [
        "#elif\n",
        "a=int(input(\"enter a value\"))\n",
        "if(a>0):\n",
        "  print(a,\"is positive\")\n",
        "elif(a<0):\n",
        "  print(a,\"is negative\")\n",
        "else:\n",
        "  print(\"neither positive nor negative\")\n"
      ],
      "metadata": {
        "colab": {
          "base_uri": "https://localhost:8080/"
        },
        "id": "ziol-4JnyKcv",
        "outputId": "9aa37b7f-e721-4a71-8b02-11446e82790e"
      },
      "execution_count": null,
      "outputs": [
        {
          "output_type": "stream",
          "name": "stdout",
          "text": [
            "enter a value0\n",
            "neither positive nor negative\n"
          ]
        }
      ]
    },
    {
      "cell_type": "code",
      "source": [
        "n=4\n",
        "for i in range(1,11,1):\n",
        "  a=n*i\n",
        "  print(a)"
      ],
      "metadata": {
        "colab": {
          "base_uri": "https://localhost:8080/"
        },
        "id": "Zf-HonqC072o",
        "outputId": "ce405de5-0085-497f-a492-e2e945cd3277"
      },
      "execution_count": null,
      "outputs": [
        {
          "output_type": "stream",
          "name": "stdout",
          "text": [
            "4\n",
            "8\n",
            "12\n",
            "16\n",
            "20\n",
            "24\n",
            "28\n",
            "32\n",
            "36\n",
            "40\n"
          ]
        }
      ]
    },
    {
      "cell_type": "markdown",
      "source": [],
      "metadata": {
        "id": "32XJGjU_wLOr"
      }
    },
    {
      "cell_type": "code",
      "source": [],
      "metadata": {
        "id": "_mWa_Qaf47rn"
      },
      "execution_count": null,
      "outputs": []
    },
    {
      "cell_type": "markdown",
      "source": [
        "type casting\n"
      ],
      "metadata": {
        "id": "kbfl6wqR4_sK"
      }
    },
    {
      "cell_type": "code",
      "source": [
        "a=12.5\n",
        "b=2\n",
        "print(int(a*b))"
      ],
      "metadata": {
        "colab": {
          "base_uri": "https://localhost:8080/"
        },
        "id": "RkyANgUk5F38",
        "outputId": "d292a31f-a9f4-4b84-cd8f-9ea3fb4cacd6"
      },
      "execution_count": null,
      "outputs": [
        {
          "output_type": "stream",
          "name": "stdout",
          "text": [
            "25\n"
          ]
        }
      ]
    },
    {
      "cell_type": "code",
      "source": [
        "a=\"45\"\n",
        "a=int(a)\n",
        "print((type(a)))"
      ],
      "metadata": {
        "colab": {
          "base_uri": "https://localhost:8080/"
        },
        "id": "AR2tg8g55hOG",
        "outputId": "b10816a8-183f-40eb-ac4e-4e91cac52f0f"
      },
      "execution_count": null,
      "outputs": [
        {
          "output_type": "stream",
          "name": "stdout",
          "text": [
            "<class 'int'>\n"
          ]
        }
      ]
    },
    {
      "cell_type": "code",
      "source": [
        "#while loop\n",
        "n=int(input(\"enter value for 5 table\"))\n",
        "i=0\n",
        "while(i<=n):\n",
        "  print(\"5 *\",i,\"=\",5*i)\n",
        "  i=i+1\n"
      ],
      "metadata": {
        "colab": {
          "base_uri": "https://localhost:8080/"
        },
        "id": "mx287iqZ6FyO",
        "outputId": "300fe79d-d05d-4991-d5a6-eec1eb4a7939"
      },
      "execution_count": null,
      "outputs": [
        {
          "output_type": "stream",
          "name": "stdout",
          "text": [
            "enter value for 5 table5\n",
            "5 * 0 = 0\n",
            "5 * 1 = 5\n",
            "5 * 2 = 10\n",
            "5 * 3 = 15\n",
            "5 * 4 = 20\n",
            "5 * 5 = 25\n"
          ]
        }
      ]
    },
    {
      "cell_type": "code",
      "source": [
        "#while\n",
        "a=int(input(\"enter a value\"))\n",
        "n=int(input(\"enter value for 6 table step\"))\n",
        "i=1\n",
        "while(i<=n):\n",
        "  print(\"6 *\",i,\"=\",6*i)\n",
        "  i=i+1"
      ],
      "metadata": {
        "colab": {
          "base_uri": "https://localhost:8080/"
        },
        "id": "r6DPhFwF9ECN",
        "outputId": "fd8fb69a-ba55-4e17-cef0-0fce74edab22"
      },
      "execution_count": null,
      "outputs": [
        {
          "output_type": "stream",
          "name": "stdout",
          "text": [
            "enter a value6\n",
            "enter value for 6 table step12\n",
            "6 * 1 = 6\n",
            "6 * 2 = 12\n",
            "6 * 3 = 18\n",
            "6 * 4 = 24\n",
            "6 * 5 = 30\n",
            "6 * 6 = 36\n",
            "6 * 7 = 42\n",
            "6 * 8 = 48\n",
            "6 * 9 = 54\n",
            "6 * 10 = 60\n",
            "6 * 11 = 66\n",
            "6 * 12 = 72\n"
          ]
        }
      ]
    },
    {
      "cell_type": "markdown",
      "source": [
        "collection\n",
        "list:is the collection of heterogenous data values->list is mutable"
      ],
      "metadata": {
        "id": "IkJkuDEb-wdh"
      }
    },
    {
      "cell_type": "code",
      "source": [
        "l=[6,\"sri vasavi\",\"a\",56.78] #list\n",
        "for i in l: #iteration printing\n",
        "  print(i)"
      ],
      "metadata": {
        "colab": {
          "base_uri": "https://localhost:8080/"
        },
        "id": "JJ_y48YV_HOL",
        "outputId": "9434e4bd-887a-499e-8684-f4d9bfa17a3e"
      },
      "execution_count": null,
      "outputs": [
        {
          "output_type": "stream",
          "name": "stdout",
          "text": [
            "6\n",
            "sri vasavi\n",
            "a\n",
            "56.78\n"
          ]
        }
      ]
    },
    {
      "cell_type": "code",
      "source": [
        "l=[\"kiran\",\"sri vasavi\",100] #list\n",
        "l.append(35)\n",
        "l.insert(2,\"bye\")\n",
        "for i in l:\n",
        "  print(i)\n",
        "  print(1)\n"
      ],
      "metadata": {
        "colab": {
          "base_uri": "https://localhost:8080/"
        },
        "id": "rEgF5RwGCe9d",
        "outputId": "21111371-2799-4395-b5a5-c41ed037571b"
      },
      "execution_count": null,
      "outputs": [
        {
          "output_type": "stream",
          "name": "stdout",
          "text": [
            "kiran\n",
            "1\n",
            "sri vasavi\n",
            "1\n",
            "bye\n",
            "1\n",
            "100\n",
            "1\n",
            "35\n",
            "1\n"
          ]
        }
      ]
    },
    {
      "cell_type": "code",
      "source": [
        "\n",
        "l=[\"kiran\",\"sri vasavi\",100] #list\n",
        "l2=[\"cse\",\"g.block\",3456]\n",
        "l.extend(l2)\n",
        "print(l)"
      ],
      "metadata": {
        "colab": {
          "base_uri": "https://localhost:8080/"
        },
        "id": "tREVj0y5Dlxw",
        "outputId": "0f535e89-c077-4ebe-cf02-b2999970d0b3"
      },
      "execution_count": null,
      "outputs": [
        {
          "output_type": "stream",
          "name": "stdout",
          "text": [
            "['kiran', 'sri vasavi', 100, 'cse', 'g.block', 3456]\n"
          ]
        }
      ]
    },
    {
      "cell_type": "code",
      "source": [
        "l=['kiran','sri vasavi',100,'cse','g.block',7766]\n",
        "l.pop()\n",
        "print(l)"
      ],
      "metadata": {
        "colab": {
          "base_uri": "https://localhost:8080/"
        },
        "id": "k9C3pwXrEOjA",
        "outputId": "71bda5e8-194a-451b-9fbb-9cabfbd8bbe4"
      },
      "execution_count": null,
      "outputs": [
        {
          "output_type": "stream",
          "name": "stdout",
          "text": [
            "['kiran', 'sri vasavi', 100, 'cse', 'g.block']\n"
          ]
        }
      ]
    },
    {
      "cell_type": "code",
      "source": [
        "l1=[\"kohli\",\"rohit\",\"dhoni\",\"padey\"]\n",
        "l1.append(4)\n",
        "print(l1)\n",
        "l1.pop(2)\n",
        "print(l1)\n"
      ],
      "metadata": {
        "colab": {
          "base_uri": "https://localhost:8080/"
        },
        "id": "Zdq6SNvmFPYY",
        "outputId": "aaaaf7c8-2ef1-4c1a-8dbc-87370ca6396a"
      },
      "execution_count": null,
      "outputs": [
        {
          "output_type": "stream",
          "name": "stdout",
          "text": [
            "['kohli', 'rohit', 'dhoni', 'padey', 4]\n",
            "['kohli', 'rohit', 'padey', 4]\n"
          ]
        }
      ]
    },
    {
      "cell_type": "markdown",
      "source": [
        "list comprehension\n"
      ],
      "metadata": {
        "id": "hpOiK8X4Gr6G"
      }
    },
    {
      "cell_type": "code",
      "source": [
        "l3=[8,9,64]\n",
        "l2=[i for i in l3 if i**0.5 in l3]\n",
        "print(l2)"
      ],
      "metadata": {
        "colab": {
          "base_uri": "https://localhost:8080/"
        },
        "id": "S7XYIO1QG0T8",
        "outputId": "15ee05fc-a9bb-4b8a-ee49-deda6f6a3ec8"
      },
      "execution_count": null,
      "outputs": [
        {
          "output_type": "stream",
          "name": "stdout",
          "text": [
            "[64]\n"
          ]
        }
      ]
    },
    {
      "cell_type": "code",
      "source": [
        "l4=[int(i)**2 for i in l3 if i>50]\n",
        "print(l4)"
      ],
      "metadata": {
        "colab": {
          "base_uri": "https://localhost:8080/"
        },
        "id": "FFQMpgB4HdZx",
        "outputId": "ddb90c7b-3fab-4a18-bb5a-fa5589f20b29"
      },
      "execution_count": null,
      "outputs": [
        {
          "output_type": "stream",
          "name": "stdout",
          "text": [
            "[4096]\n"
          ]
        }
      ]
    },
    {
      "cell_type": "markdown",
      "source": [
        "\n",
        "#using if else in list coprehension\n",
        "#syntax:list=[(body of if)]if codition else (body of else)for i in range()]"
      ],
      "metadata": {
        "id": "NCN2sT5yLv_D"
      }
    },
    {
      "cell_type": "code",
      "source": [
        "#the salaries of 5employee in a company is taken as a list.the tax is 10% otherwise it is 15%\n",
        "sal=[67000,45000,89000,34000,50000]\n",
        "tax=[]\n",
        "for i in sal:\n",
        "  if i<=50000:\n",
        "   t=i*0.1\n",
        "   tax.append(t)\n",
        "  else:\n",
        "    t=i*0.15\n",
        "    tax.append(t)\n",
        "print(tax)"
      ],
      "metadata": {
        "colab": {
          "base_uri": "https://localhost:8080/"
        },
        "id": "L-axMRW1HvHt",
        "outputId": "5533299b-927c-4a60-e003-faedfbe1a3f5"
      },
      "execution_count": null,
      "outputs": [
        {
          "output_type": "stream",
          "name": "stdout",
          "text": [
            "[10050.0, 4500.0, 13350.0, 3400.0, 5000.0]\n"
          ]
        }
      ]
    }
  ]
}