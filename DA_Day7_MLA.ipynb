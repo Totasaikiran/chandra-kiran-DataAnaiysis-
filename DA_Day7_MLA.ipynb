{
  "nbformat": 4,
  "nbformat_minor": 0,
  "metadata": {
    "colab": {
      "provenance": []
    },
    "kernelspec": {
      "name": "python3",
      "display_name": "Python 3"
    },
    "language_info": {
      "name": "python"
    }
  },
  "cells": [
    {
      "cell_type": "code",
      "execution_count": null,
      "metadata": {
        "id": "yQqYTV0xxAjx"
      },
      "outputs": [],
      "source": [
        "import tensorflow as tf\n",
        "from tensorflow import keras\n",
        "from tensorflow.keras import layers\n",
        "from tensorflow.keras.preprocessing.image import ImageDataGenerator\n",
        "#define image size and batch size\n",
        "IMG_SIZE=224\n",
        "BATCH_SIZE=32"
      ]
    },
    {
      "cell_type": "code",
      "source": [
        "#Define data generators for train, validation and test sets\n",
        "train_datagen = ImageDataGenerator(rescale=1./225,validation_split=0.2)\n",
        "train_generator= train_datagen.flow_from_directory('/content/drive/MyDrive/Brain_Tumor_Detection/Brain_Tumor_Detection/train',\n",
        "    target_size = (IMG_SIZE, IMG_SIZE),\n",
        "    batch_size = BATCH_SIZE,\n",
        "    class_mode = 'binary',\n",
        "    subset = 'training'\n",
        ")\n",
        "val_generator=train_datagen.flow_from_directory('/content/drive/MyDrive/Brain_Tumor_Detection/Brain_Tumor_Detection/test',\n",
        "    target_size = (IMG_SIZE, IMG_SIZE),\n",
        "    batch_size = BATCH_SIZE,\n",
        "    class_mode = 'binary',\n",
        "    subset = 'validation'\n",
        " )\n",
        "test_datagen = ImageDataGenerator(rescale=1./225)\n",
        "test_generator= test_datagen.flow_from_directory('/content/drive/MyDrive/Brain_Tumor_Detection/Brain_Tumor_Detection/test',\n",
        "    target_size = (IMG_SIZE, IMG_SIZE),\n",
        "    batch_size = BATCH_SIZE,\n",
        "    class_mode = 'binary',\n",
        "\n",
        ")\n"
      ],
      "metadata": {
        "colab": {
          "base_uri": "https://localhost:8080/"
        },
        "id": "8K6tF5ODq_hq",
        "outputId": "abf6ca10-1913-4f8d-c751-63c36f62022f"
      },
      "execution_count": null,
      "outputs": [
        {
          "output_type": "stream",
          "name": "stdout",
          "text": [
            "Found 2446 images belonging to 2 classes.\n",
            "Found 12 images belonging to 1 classes.\n",
            "Found 60 images belonging to 1 classes.\n"
          ]
        }
      ]
    },
    {
      "cell_type": "code",
      "source": [
        "from google.colab import drive\n",
        "drive.mount('/content/drive')"
      ],
      "metadata": {
        "colab": {
          "base_uri": "https://localhost:8080/"
        },
        "id": "rck3cQ-JiLVy",
        "outputId": "c8011461-972b-4ed2-ae01-e82a5efe72db"
      },
      "execution_count": null,
      "outputs": [
        {
          "output_type": "stream",
          "name": "stdout",
          "text": [
            "Drive already mounted at /content/drive; to attempt to forcibly remount, call drive.mount(\"/content/drive\", force_remount=True).\n"
          ]
        }
      ]
    },
    {
      "cell_type": "code",
      "source": [
        "#define the model\n",
        "model=keras.Sequential([\n",
        "    layers.Conv2D(32,(3,3),activation='relu',input_shape=(IMG_SIZE,IMG_SIZE,3)),\n",
        "    layers.MaxPooling2D((2,2)),\n",
        "    layers.Conv2D(64,(3,3),activation='relu'),\n",
        "    layers.MaxPooling2D((2,2)),\n",
        "    layers.Conv2D(128,(3,3),activation='relu'),\n",
        "    layers.MaxPooling2D((2,2)),\n",
        "    layers.Flatten(),\n",
        "    layers.Dense(128,activation='relu'),\n",
        "    layers.Dense(1,activation='sigmoid')\n",
        "  ])"
      ],
      "metadata": {
        "id": "mZfGyQn6n9TE"
      },
      "execution_count": null,
      "outputs": []
    },
    {
      "cell_type": "code",
      "source": [
        "model.compile(optimizer='adam',loss='binary_crossentropy',metrics=['accuracy'])"
      ],
      "metadata": {
        "id": "LlmVrkxztdux"
      },
      "execution_count": null,
      "outputs": []
    },
    {
      "cell_type": "code",
      "source": [
        "history=model.fit(train_generator,validation_data=val_generator,epochs=5)"
      ],
      "metadata": {
        "colab": {
          "base_uri": "https://localhost:8080/"
        },
        "id": "4VY2R2sTu2Dp",
        "outputId": "ea81e160-0939-4884-ccd2-08ef28085bbc"
      },
      "execution_count": null,
      "outputs": [
        {
          "output_type": "stream",
          "name": "stdout",
          "text": [
            "Epoch 1/5\n",
            "77/77 [==============================] - 407s 5s/step - loss: 0.5444 - accuracy: 0.7858 - val_loss: 1.0861 - val_accuracy: 0.4167\n",
            "Epoch 2/5\n",
            "77/77 [==============================] - 272s 4s/step - loss: 0.2316 - accuracy: 0.9113 - val_loss: 1.5477 - val_accuracy: 0.4167\n",
            "Epoch 3/5\n",
            "77/77 [==============================] - 274s 4s/step - loss: 0.1094 - accuracy: 0.9644 - val_loss: 1.3438 - val_accuracy: 0.5833\n",
            "Epoch 4/5\n",
            "77/77 [==============================] - 274s 4s/step - loss: 0.0584 - accuracy: 0.9820 - val_loss: 2.4019 - val_accuracy: 0.5833\n",
            "Epoch 5/5\n",
            "77/77 [==============================] - 274s 4s/step - loss: 0.0200 - accuracy: 0.9947 - val_loss: 2.3633 - val_accuracy: 0.5833\n"
          ]
        }
      ]
    },
    {
      "cell_type": "code",
      "source": [
        "model.save(\"Model.h5\",\"label.txt\")"
      ],
      "metadata": {
        "id": "EYbxFxOEvUsM"
      },
      "execution_count": null,
      "outputs": []
    },
    {
      "cell_type": "code",
      "source": [
        "from tensorflow.keras.models import load_model\n",
        "from tensorflow.keras.preprocessing import image\n",
        "import numpy as np\n",
        "\n",
        "#load the saved model\n",
        "model=load_model('/content/Model.h5')\n",
        "\n",
        "#load and preprocess the test image\n",
        "test_image_path='/content/drive/MyDrive/Brain_Tumor_Detection/Brain_Tumor_Detection/test/pred/pred11.jpg'\n",
        "img=image.load_img(test_image_path,target_size=(224,224))\n",
        "img_array=image.img_to_array(img)\n",
        "img_array=np.expand_dims(img_array ,axis=0)  #batch dimension\n",
        "img_array /=255.  #normalise the pixel values\n",
        "#make predictions\n",
        "prediction=model.predict(img_array)\n",
        "if prediction<0.5:\n",
        "  print(\"Prediction: No Tumor (probablity:\",prediction[0][0],\")\")\n",
        "else:\n",
        "  print(\"Prediction: Tumor present (probability:\",prediction[0][0],\")\")"
      ],
      "metadata": {
        "colab": {
          "base_uri": "https://localhost:8080/"
        },
        "id": "uJ5YeZ24vXxX",
        "outputId": "187690e8-36fc-42b7-e8a8-106c7c41874d"
      },
      "execution_count": null,
      "outputs": [
        {
          "output_type": "stream",
          "name": "stdout",
          "text": [
            "1/1 [==============================] - 0s 175ms/step\n",
            "Prediction: Tumor present (probability: 0.97597086 )\n"
          ]
        }
      ]
    },
    {
      "cell_type": "code",
      "source": [],
      "metadata": {
        "id": "3bdlrzE8MunU"
      },
      "execution_count": null,
      "outputs": []
    }
  ]
}